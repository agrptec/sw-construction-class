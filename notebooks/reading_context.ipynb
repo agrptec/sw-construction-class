{
 "cells": [
  {
   "cell_type": "markdown",
   "id": "f411b03c",
   "metadata": {},
   "source": [
    "# Introduction to NGSILDCLIENT"
   ]
  },
  {
   "cell_type": "markdown",
   "id": "772911a2",
   "metadata": {},
   "source": [
    "* Instance the connection to context broker from nsildclient"
   ]
  },
  {
   "cell_type": "code",
   "execution_count": 1,
   "id": "aa771a9f",
   "metadata": {},
   "outputs": [
    {
     "data": {
      "text/html": [
       "<pre style=\"white-space:pre;overflow-x:auto;line-height:normal;font-family:Menlo,'DejaVu Sans Mono',consolas,'Courier New',monospace\"><span style=\"color: #008000; text-decoration-color: #008000\">Connected</span> to Context Broker at <span style=\"color: #0000d7; text-decoration-color: #0000d7; font-weight: bold\">52.233.87.128</span><span style=\"color: #0000d7; text-decoration-color: #0000d7\">:</span><span style=\"color: #0000d7; text-decoration-color: #0000d7; font-weight: bold\">1029</span> | <span style=\"color: #808000; text-decoration-color: #808000\">tenant</span>=<span style=\"color: #0000d7; text-decoration-color: #0000d7\">N</span><span style=\"color: #0000d7; text-decoration-color: #0000d7\">/A</span> | <span style=\"color: #808000; text-decoration-color: #808000\">vendor</span>=<span style=\"color: #0000d7; text-decoration-color: #0000d7\">Orion</span><span style=\"color: #0000d7; text-decoration-color: #0000d7\">-LD</span> | <span style=\"color: #808000; text-decoration-color: #808000\">version</span>=<span style=\"color: #0000d7; text-decoration-color: #0000d7; font-weight: bold\">1.0</span><span style=\"color: #0000d7; text-decoration-color: #0000d7\">.</span><span style=\"color: #0000d7; text-decoration-color: #0000d7; font-weight: bold\">1</span><span style=\"color: #0000d7; text-decoration-color: #0000d7\">-PRE-</span><span style=\"color: #0000d7; text-decoration-color: #0000d7; font-weight: bold\">468</span>\n",
       "</pre>\n"
      ],
      "text/plain": [
       "\u001b[32mConnected\u001b[0m to Context Broker at \u001b[1;38;5;20m52.233.87.128\u001b[0m\u001b[38;5;20m:\u001b[0m\u001b[1;38;5;20m1029\u001b[0m | \u001b[33mtenant\u001b[0m=\u001b[38;5;20mN\u001b[0m\u001b[38;5;20m/A\u001b[0m | \u001b[33mvendor\u001b[0m=\u001b[38;5;20mOrion\u001b[0m\u001b[38;5;20m-LD\u001b[0m | \u001b[33mversion\u001b[0m=\u001b[1;38;5;20m1\u001b[0m\u001b[1;38;5;20m.0\u001b[0m\u001b[38;5;20m.\u001b[0m\u001b[1;38;5;20m1\u001b[0m\u001b[38;5;20m-PRE-\u001b[0m\u001b[1;38;5;20m468\u001b[0m\n"
      ]
     },
     "metadata": {},
     "output_type": "display_data"
    },
    {
     "data": {
      "text/html": [
       "<pre style=\"white-space:pre;overflow-x:auto;line-height:normal;font-family:Menlo,'DejaVu Sans Mono',consolas,'Courier New',monospace\"><span style=\"color: #008000; text-decoration-color: #008000\">Connected</span> to Context Broker at <span style=\"color: #0000d7; text-decoration-color: #0000d7; font-weight: bold\">52.233.87.128</span><span style=\"color: #0000d7; text-decoration-color: #0000d7\">:</span><span style=\"color: #0000d7; text-decoration-color: #0000d7; font-weight: bold\">1026</span> | <span style=\"color: #808000; text-decoration-color: #808000\">tenant</span>=<span style=\"color: #0000d7; text-decoration-color: #0000d7\">N</span><span style=\"color: #0000d7; text-decoration-color: #0000d7\">/A</span> | <span style=\"color: #808000; text-decoration-color: #808000\">vendor</span>=<span style=\"color: #0000d7; text-decoration-color: #0000d7\">Orion</span><span style=\"color: #0000d7; text-decoration-color: #0000d7\">-LD</span> | <span style=\"color: #808000; text-decoration-color: #808000\">version</span>=<span style=\"color: #0000d7; text-decoration-color: #0000d7; font-weight: bold\">1.0</span><span style=\"color: #0000d7; text-decoration-color: #0000d7\">.</span><span style=\"color: #0000d7; text-decoration-color: #0000d7; font-weight: bold\">1</span><span style=\"color: #0000d7; text-decoration-color: #0000d7\">-PRE-</span><span style=\"color: #0000d7; text-decoration-color: #0000d7; font-weight: bold\">468</span>\n",
       "</pre>\n"
      ],
      "text/plain": [
       "\u001b[32mConnected\u001b[0m to Context Broker at \u001b[1;38;5;20m52.233.87.128\u001b[0m\u001b[38;5;20m:\u001b[0m\u001b[1;38;5;20m1026\u001b[0m | \u001b[33mtenant\u001b[0m=\u001b[38;5;20mN\u001b[0m\u001b[38;5;20m/A\u001b[0m | \u001b[33mvendor\u001b[0m=\u001b[38;5;20mOrion\u001b[0m\u001b[38;5;20m-LD\u001b[0m | \u001b[33mversion\u001b[0m=\u001b[1;38;5;20m1\u001b[0m\u001b[1;38;5;20m.0\u001b[0m\u001b[38;5;20m.\u001b[0m\u001b[1;38;5;20m1\u001b[0m\u001b[38;5;20m-PRE-\u001b[0m\u001b[1;38;5;20m468\u001b[0m\n"
      ]
     },
     "metadata": {},
     "output_type": "display_data"
    },
    {
     "data": {
      "text/html": [
       "<pre style=\"white-space:pre;overflow-x:auto;line-height:normal;font-family:Menlo,'DejaVu Sans Mono',consolas,'Courier New',monospace\"><span style=\"color: #008000; text-decoration-color: #008000\">Connected</span> to Context Broker at <span style=\"color: #0000d7; text-decoration-color: #0000d7; font-weight: bold\">52.233.87.128</span><span style=\"color: #0000d7; text-decoration-color: #0000d7\">:</span><span style=\"color: #0000d7; text-decoration-color: #0000d7; font-weight: bold\">1028</span> | <span style=\"color: #808000; text-decoration-color: #808000\">tenant</span>=<span style=\"color: #0000d7; text-decoration-color: #0000d7\">N</span><span style=\"color: #0000d7; text-decoration-color: #0000d7\">/A</span> | <span style=\"color: #808000; text-decoration-color: #808000\">vendor</span>=<span style=\"color: #0000d7; text-decoration-color: #0000d7\">Orion</span><span style=\"color: #0000d7; text-decoration-color: #0000d7\">-LD</span> | <span style=\"color: #808000; text-decoration-color: #808000\">version</span>=<span style=\"color: #0000d7; text-decoration-color: #0000d7; font-weight: bold\">1.0</span><span style=\"color: #0000d7; text-decoration-color: #0000d7\">.</span><span style=\"color: #0000d7; text-decoration-color: #0000d7; font-weight: bold\">1</span><span style=\"color: #0000d7; text-decoration-color: #0000d7\">-PRE-</span><span style=\"color: #0000d7; text-decoration-color: #0000d7; font-weight: bold\">468</span>\n",
       "</pre>\n"
      ],
      "text/plain": [
       "\u001b[32mConnected\u001b[0m to Context Broker at \u001b[1;38;5;20m52.233.87.128\u001b[0m\u001b[38;5;20m:\u001b[0m\u001b[1;38;5;20m1028\u001b[0m | \u001b[33mtenant\u001b[0m=\u001b[38;5;20mN\u001b[0m\u001b[38;5;20m/A\u001b[0m | \u001b[33mvendor\u001b[0m=\u001b[38;5;20mOrion\u001b[0m\u001b[38;5;20m-LD\u001b[0m | \u001b[33mversion\u001b[0m=\u001b[1;38;5;20m1\u001b[0m\u001b[1;38;5;20m.0\u001b[0m\u001b[38;5;20m.\u001b[0m\u001b[1;38;5;20m1\u001b[0m\u001b[38;5;20m-PRE-\u001b[0m\u001b[1;38;5;20m468\u001b[0m\n"
      ]
     },
     "metadata": {},
     "output_type": "display_data"
    }
   ],
   "source": [
    "from ngsildclient import Client, Entity, iso8601\n",
    "\n",
    "client_happy = Client(hostname=\"52.233.87.128\",port=1029)\n",
    "client_real = Client(hostname=\"52.233.87.128\",port=1026)\n",
    "client_smart = Client(hostname=\"52.233.87.128\",port=1028)\n"
   ]
  },
  {
   "cell_type": "markdown",
   "id": "7397c9c5",
   "metadata": {},
   "source": [
    "* Create suscriptions"
   ]
  },
  {
   "cell_type": "code",
   "execution_count": 13,
   "id": "1ee516db",
   "metadata": {},
   "outputs": [
    {
     "data": {
      "text/plain": [
       "'urn:ngsi-ld:Subscription:66301de7b6db47c3ce445c19'"
      ]
     },
     "execution_count": 13,
     "metadata": {},
     "output_type": "execute_result"
    }
   ],
   "source": [
    "from ngsildclient import SubscriptionBuilder\n",
    "\n",
    "subscr = SubscriptionBuilder(\"http://ai.notification-proxy.docker:8080/notification\")\\\n",
    "    .description(\"Notify me of new animal coordinates\")\\\n",
    "    .select_type(\"Animal\")\\\n",
    "    .watch([\"location\"])\\\n",
    "    .notif([\"location\"])\\\n",
    "    .build()\n",
    "client_happy.subscriptions.create(subscr)"
   ]
  },
  {
   "cell_type": "code",
   "execution_count": 14,
   "id": "ed517787",
   "metadata": {},
   "outputs": [
    {
     "data": {
      "text/plain": [
       "'urn:ngsi-ld:Subscription:66301de92255993c327ba963'"
      ]
     },
     "execution_count": 14,
     "metadata": {},
     "output_type": "execute_result"
    }
   ],
   "source": [
    "\n",
    "subscr = SubscriptionBuilder(\"http://apis.docker:5000/notification\")\\\n",
    "    .description(\"Notify AI service of new animal coordinates\")\\\n",
    "    .select_type(\"Animal\")\\\n",
    "    .watch([\"location\"])\\\n",
    "    .notif([\"location\"])\\\n",
    "    .build()\n",
    "client_smart.subscriptions.create(subscr)"
   ]
  },
  {
   "cell_type": "code",
   "execution_count": 15,
   "id": "e7b1e11f",
   "metadata": {},
   "outputs": [
    {
     "data": {
      "text/plain": [
       "'urn:ngsi-ld:Subscription:66301dea2255993c327ba964'"
      ]
     },
     "execution_count": 15,
     "metadata": {},
     "output_type": "execute_result"
    }
   ],
   "source": [
    "\n",
    "subscr = SubscriptionBuilder(\"http://farm.notification-proxy.docker:8081/notification\")\\\n",
    "    .description(\"Notify me of new animal activity prediction\")\\\n",
    "    .select_type(\"Animal\")\\\n",
    "    .watch([\"animalActivity\"])\\\n",
    "    .notif([\"animalActivity\"])\\\n",
    "    .build()\n",
    "client_smart.subscriptions.create(subscr)"
   ]
  },
  {
   "cell_type": "markdown",
   "id": "5c442d5a",
   "metadata": {},
   "source": [
    "* Create a temperature sensor entity from function def."
   ]
  },
  {
   "cell_type": "code",
   "execution_count": 16,
   "id": "de750704",
   "metadata": {},
   "outputs": [],
   "source": [
    "def build_entity(sensor: dict) -> Entity:\n",
    "    e = Entity(\"TemperatureSensor\", f\"{sensor['id']}\")\n",
    "    e.obs()\n",
    "    e.prop(\"temperature\", sensor[\"temperature\"])\n",
    "    return e\n"
   ]
  },
  {
   "cell_type": "code",
   "execution_count": 3,
   "id": "fec76105",
   "metadata": {},
   "outputs": [],
   "source": [
    "def build_entity_animal(animal: dict) -> Entity:\n",
    "    e = Entity(\"Animal\", f\"{animal['id']}\")\n",
    "    e.obs()\n",
    "    e.prop(\"species\", animal[\"species\"])\n",
    "    e.gprop(\"location\", animal['location']) \n",
    "    return e"
   ]
  },
  {
   "cell_type": "code",
   "execution_count": 18,
   "id": "4f2839cc",
   "metadata": {},
   "outputs": [
    {
     "name": "stdout",
     "output_type": "stream",
     "text": [
      "{'id': 'urn:ngsi-ld:TemperatureSensor:001', 'type': 'TemperatureSensor', '@context': ['https://uri.etsi.org/ngsi-ld/v1/ngsi-ld-core-context.jsonld'], 'dateObserved': {'type': 'Property', 'value': {'@type': 'DateTime', '@value': '2024-04-29T22:21:17Z'}}, 'temperature': {'type': 'Property', 'value': 17}}\n"
     ]
    },
    {
     "data": {
      "text/plain": [
       "True"
      ]
     },
     "execution_count": 18,
     "metadata": {},
     "output_type": "execute_result"
    }
   ],
   "source": [
    "tempSensor = {\"id\": \"001\", \"temperature\": 17}\n",
    "entity = build_entity(tempSensor)\n",
    "print (entity)\n",
    "#upser entity in client\n",
    "client_real.upsert(entity)"
   ]
  },
  {
   "cell_type": "code",
   "execution_count": 4,
   "id": "ba3799c6",
   "metadata": {},
   "outputs": [
    {
     "name": "stdout",
     "output_type": "stream",
     "text": [
      "{'id': 'urn:ngsi-ld:Animal:0002', 'type': 'Animal', '@context': ['https://uri.etsi.org/ngsi-ld/v1/ngsi-ld-core-context.jsonld'], 'dateObserved': {'type': 'Property', 'value': {'@type': 'DateTime', '@value': '2024-04-29T22:25:28Z'}}, 'species': {'type': 'Property', 'value': 'cow'}, 'location': {'type': 'GeoProperty', 'value': {\"coordinates\": [3.163, 5.6133, -1.4292], \"type\": \"Point\"}}}\n"
     ]
    },
    {
     "data": {
      "text/plain": [
       "True"
      ]
     },
     "execution_count": 4,
     "metadata": {},
     "output_type": "execute_result"
    }
   ],
   "source": [
    "from geojson import Point\n",
    "\n",
    "animal = {\"id\": \"0002\", \"species\": \"cow\", \"location\": Point((3.163,5.6133,-1.4292))}\n",
    "entity = build_entity_animal(animal)\n",
    "print (entity)\n",
    "#upser entity in client\n",
    "client_happy.upsert(entity)"
   ]
  },
  {
   "cell_type": "markdown",
   "id": "d9867d65",
   "metadata": {},
   "source": [
    "* GET entities of certain type."
   ]
  },
  {
   "cell_type": "code",
   "execution_count": 20,
   "id": "6fec6a70",
   "metadata": {},
   "outputs": [
    {
     "data": {
      "text/plain": [
       "[{'@context': 'https://uri.etsi.org/ngsi-ld/v1/ngsi-ld-core-context.jsonld', 'id': 'urn:ngsi-ld:TemperatureSensor:001', 'type': 'TemperatureSensor', 'dateObserved': {'type': 'Property', 'value': {'@type': 'DateTime', '@value': '2024-04-29T22:21:17Z'}}, 'temperature': {'type': 'Property', 'value': 17}}]"
      ]
     },
     "execution_count": 20,
     "metadata": {},
     "output_type": "execute_result"
    }
   ],
   "source": [
    "client_real.query(type='TemperatureSensor')"
   ]
  },
  {
   "cell_type": "markdown",
   "id": "4f08cfb1",
   "metadata": {},
   "source": [
    "* GET entity given urn."
   ]
  },
  {
   "cell_type": "code",
   "execution_count": 5,
   "id": "b51d7e1d",
   "metadata": {},
   "outputs": [
    {
     "data": {
      "text/plain": [
       "{'@context': 'https://uri.etsi.org/ngsi-ld/v1/ngsi-ld-core-context.jsonld', 'id': 'urn:ngsi-ld:Animal:0002', 'type': 'Animal', 'location': {'type': 'GeoProperty', 'value': {'type': 'Point', 'coordinates': [3.163, 5.6133, -1.4292]}}, 'animalActivity': {'value': 'Sternal lying', 'type': 'Property'}}"
      ]
     },
     "execution_count": 5,
     "metadata": {},
     "output_type": "execute_result"
    }
   ],
   "source": [
    "client_smart.get('urn:ngsi-ld:Animal:0002')"
   ]
  }
 ],
 "metadata": {
  "kernelspec": {
   "display_name": "Python 3 (ipykernel)",
   "language": "python",
   "name": "python3"
  },
  "language_info": {
   "codemirror_mode": {
    "name": "ipython",
    "version": 3
   },
   "file_extension": ".py",
   "mimetype": "text/x-python",
   "name": "python",
   "nbconvert_exporter": "python",
   "pygments_lexer": "ipython3",
   "version": "3.9.13"
  }
 },
 "nbformat": 4,
 "nbformat_minor": 5
}
